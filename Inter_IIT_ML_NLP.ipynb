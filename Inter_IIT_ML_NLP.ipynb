{
  "nbformat": 4,
  "nbformat_minor": 0,
  "metadata": {
    "colab": {
      "provenance": [],
      "gpuType": "T4",
      "include_colab_link": true
    },
    "kernelspec": {
      "name": "python3",
      "display_name": "Python 3"
    },
    "language_info": {
      "name": "python"
    },
    "accelerator": "GPU",
    "widgets": {
      "application/vnd.jupyter.widget-state+json": {
        "0bf466694ab24c979a0d2be19852a39b": {
          "model_module": "@jupyter-widgets/controls",
          "model_name": "HBoxModel",
          "model_module_version": "1.5.0",
          "state": {
            "_dom_classes": [],
            "_model_module": "@jupyter-widgets/controls",
            "_model_module_version": "1.5.0",
            "_model_name": "HBoxModel",
            "_view_count": null,
            "_view_module": "@jupyter-widgets/controls",
            "_view_module_version": "1.5.0",
            "_view_name": "HBoxView",
            "box_style": "",
            "children": [
              "IPY_MODEL_2d5926baa8a64d2d9f8481dc5e729e18",
              "IPY_MODEL_7eb73019be9e4dd7b63804027641a3e8",
              "IPY_MODEL_fe74853597da4cc8bf564f92387bccad"
            ],
            "layout": "IPY_MODEL_7ef40d6b553c4d1fb2443f4c7c4e9ee7"
          }
        },
        "2d5926baa8a64d2d9f8481dc5e729e18": {
          "model_module": "@jupyter-widgets/controls",
          "model_name": "HTMLModel",
          "model_module_version": "1.5.0",
          "state": {
            "_dom_classes": [],
            "_model_module": "@jupyter-widgets/controls",
            "_model_module_version": "1.5.0",
            "_model_name": "HTMLModel",
            "_view_count": null,
            "_view_module": "@jupyter-widgets/controls",
            "_view_module_version": "1.5.0",
            "_view_name": "HTMLView",
            "description": "",
            "description_tooltip": null,
            "layout": "IPY_MODEL_490db189bc0644a3a1c67078ebc1f979",
            "placeholder": "​",
            "style": "IPY_MODEL_abcc909f005442e0b2ba6f5ab8acf23e",
            "value": "Downloading (…)solve/main/vocab.txt: 100%"
          }
        },
        "7eb73019be9e4dd7b63804027641a3e8": {
          "model_module": "@jupyter-widgets/controls",
          "model_name": "FloatProgressModel",
          "model_module_version": "1.5.0",
          "state": {
            "_dom_classes": [],
            "_model_module": "@jupyter-widgets/controls",
            "_model_module_version": "1.5.0",
            "_model_name": "FloatProgressModel",
            "_view_count": null,
            "_view_module": "@jupyter-widgets/controls",
            "_view_module_version": "1.5.0",
            "_view_name": "ProgressView",
            "bar_style": "success",
            "description": "",
            "description_tooltip": null,
            "layout": "IPY_MODEL_6668c1e729544c29afd9438eac0fbc0b",
            "max": 231508,
            "min": 0,
            "orientation": "horizontal",
            "style": "IPY_MODEL_fb66bd125e544ab1a63b19ca7fa94be1",
            "value": 231508
          }
        },
        "fe74853597da4cc8bf564f92387bccad": {
          "model_module": "@jupyter-widgets/controls",
          "model_name": "HTMLModel",
          "model_module_version": "1.5.0",
          "state": {
            "_dom_classes": [],
            "_model_module": "@jupyter-widgets/controls",
            "_model_module_version": "1.5.0",
            "_model_name": "HTMLModel",
            "_view_count": null,
            "_view_module": "@jupyter-widgets/controls",
            "_view_module_version": "1.5.0",
            "_view_name": "HTMLView",
            "description": "",
            "description_tooltip": null,
            "layout": "IPY_MODEL_73f187748bb2420d9209c9c992f90732",
            "placeholder": "​",
            "style": "IPY_MODEL_6315861d0fb8403da65ef3389361c2f5",
            "value": " 232k/232k [00:00&lt;00:00, 2.93MB/s]"
          }
        },
        "7ef40d6b553c4d1fb2443f4c7c4e9ee7": {
          "model_module": "@jupyter-widgets/base",
          "model_name": "LayoutModel",
          "model_module_version": "1.2.0",
          "state": {
            "_model_module": "@jupyter-widgets/base",
            "_model_module_version": "1.2.0",
            "_model_name": "LayoutModel",
            "_view_count": null,
            "_view_module": "@jupyter-widgets/base",
            "_view_module_version": "1.2.0",
            "_view_name": "LayoutView",
            "align_content": null,
            "align_items": null,
            "align_self": null,
            "border": null,
            "bottom": null,
            "display": null,
            "flex": null,
            "flex_flow": null,
            "grid_area": null,
            "grid_auto_columns": null,
            "grid_auto_flow": null,
            "grid_auto_rows": null,
            "grid_column": null,
            "grid_gap": null,
            "grid_row": null,
            "grid_template_areas": null,
            "grid_template_columns": null,
            "grid_template_rows": null,
            "height": null,
            "justify_content": null,
            "justify_items": null,
            "left": null,
            "margin": null,
            "max_height": null,
            "max_width": null,
            "min_height": null,
            "min_width": null,
            "object_fit": null,
            "object_position": null,
            "order": null,
            "overflow": null,
            "overflow_x": null,
            "overflow_y": null,
            "padding": null,
            "right": null,
            "top": null,
            "visibility": null,
            "width": null
          }
        },
        "490db189bc0644a3a1c67078ebc1f979": {
          "model_module": "@jupyter-widgets/base",
          "model_name": "LayoutModel",
          "model_module_version": "1.2.0",
          "state": {
            "_model_module": "@jupyter-widgets/base",
            "_model_module_version": "1.2.0",
            "_model_name": "LayoutModel",
            "_view_count": null,
            "_view_module": "@jupyter-widgets/base",
            "_view_module_version": "1.2.0",
            "_view_name": "LayoutView",
            "align_content": null,
            "align_items": null,
            "align_self": null,
            "border": null,
            "bottom": null,
            "display": null,
            "flex": null,
            "flex_flow": null,
            "grid_area": null,
            "grid_auto_columns": null,
            "grid_auto_flow": null,
            "grid_auto_rows": null,
            "grid_column": null,
            "grid_gap": null,
            "grid_row": null,
            "grid_template_areas": null,
            "grid_template_columns": null,
            "grid_template_rows": null,
            "height": null,
            "justify_content": null,
            "justify_items": null,
            "left": null,
            "margin": null,
            "max_height": null,
            "max_width": null,
            "min_height": null,
            "min_width": null,
            "object_fit": null,
            "object_position": null,
            "order": null,
            "overflow": null,
            "overflow_x": null,
            "overflow_y": null,
            "padding": null,
            "right": null,
            "top": null,
            "visibility": null,
            "width": null
          }
        },
        "abcc909f005442e0b2ba6f5ab8acf23e": {
          "model_module": "@jupyter-widgets/controls",
          "model_name": "DescriptionStyleModel",
          "model_module_version": "1.5.0",
          "state": {
            "_model_module": "@jupyter-widgets/controls",
            "_model_module_version": "1.5.0",
            "_model_name": "DescriptionStyleModel",
            "_view_count": null,
            "_view_module": "@jupyter-widgets/base",
            "_view_module_version": "1.2.0",
            "_view_name": "StyleView",
            "description_width": ""
          }
        },
        "6668c1e729544c29afd9438eac0fbc0b": {
          "model_module": "@jupyter-widgets/base",
          "model_name": "LayoutModel",
          "model_module_version": "1.2.0",
          "state": {
            "_model_module": "@jupyter-widgets/base",
            "_model_module_version": "1.2.0",
            "_model_name": "LayoutModel",
            "_view_count": null,
            "_view_module": "@jupyter-widgets/base",
            "_view_module_version": "1.2.0",
            "_view_name": "LayoutView",
            "align_content": null,
            "align_items": null,
            "align_self": null,
            "border": null,
            "bottom": null,
            "display": null,
            "flex": null,
            "flex_flow": null,
            "grid_area": null,
            "grid_auto_columns": null,
            "grid_auto_flow": null,
            "grid_auto_rows": null,
            "grid_column": null,
            "grid_gap": null,
            "grid_row": null,
            "grid_template_areas": null,
            "grid_template_columns": null,
            "grid_template_rows": null,
            "height": null,
            "justify_content": null,
            "justify_items": null,
            "left": null,
            "margin": null,
            "max_height": null,
            "max_width": null,
            "min_height": null,
            "min_width": null,
            "object_fit": null,
            "object_position": null,
            "order": null,
            "overflow": null,
            "overflow_x": null,
            "overflow_y": null,
            "padding": null,
            "right": null,
            "top": null,
            "visibility": null,
            "width": null
          }
        },
        "fb66bd125e544ab1a63b19ca7fa94be1": {
          "model_module": "@jupyter-widgets/controls",
          "model_name": "ProgressStyleModel",
          "model_module_version": "1.5.0",
          "state": {
            "_model_module": "@jupyter-widgets/controls",
            "_model_module_version": "1.5.0",
            "_model_name": "ProgressStyleModel",
            "_view_count": null,
            "_view_module": "@jupyter-widgets/base",
            "_view_module_version": "1.2.0",
            "_view_name": "StyleView",
            "bar_color": null,
            "description_width": ""
          }
        },
        "73f187748bb2420d9209c9c992f90732": {
          "model_module": "@jupyter-widgets/base",
          "model_name": "LayoutModel",
          "model_module_version": "1.2.0",
          "state": {
            "_model_module": "@jupyter-widgets/base",
            "_model_module_version": "1.2.0",
            "_model_name": "LayoutModel",
            "_view_count": null,
            "_view_module": "@jupyter-widgets/base",
            "_view_module_version": "1.2.0",
            "_view_name": "LayoutView",
            "align_content": null,
            "align_items": null,
            "align_self": null,
            "border": null,
            "bottom": null,
            "display": null,
            "flex": null,
            "flex_flow": null,
            "grid_area": null,
            "grid_auto_columns": null,
            "grid_auto_flow": null,
            "grid_auto_rows": null,
            "grid_column": null,
            "grid_gap": null,
            "grid_row": null,
            "grid_template_areas": null,
            "grid_template_columns": null,
            "grid_template_rows": null,
            "height": null,
            "justify_content": null,
            "justify_items": null,
            "left": null,
            "margin": null,
            "max_height": null,
            "max_width": null,
            "min_height": null,
            "min_width": null,
            "object_fit": null,
            "object_position": null,
            "order": null,
            "overflow": null,
            "overflow_x": null,
            "overflow_y": null,
            "padding": null,
            "right": null,
            "top": null,
            "visibility": null,
            "width": null
          }
        },
        "6315861d0fb8403da65ef3389361c2f5": {
          "model_module": "@jupyter-widgets/controls",
          "model_name": "DescriptionStyleModel",
          "model_module_version": "1.5.0",
          "state": {
            "_model_module": "@jupyter-widgets/controls",
            "_model_module_version": "1.5.0",
            "_model_name": "DescriptionStyleModel",
            "_view_count": null,
            "_view_module": "@jupyter-widgets/base",
            "_view_module_version": "1.2.0",
            "_view_name": "StyleView",
            "description_width": ""
          }
        },
        "54d4d525328a44a3b1f9c9e0a50b6856": {
          "model_module": "@jupyter-widgets/controls",
          "model_name": "HBoxModel",
          "model_module_version": "1.5.0",
          "state": {
            "_dom_classes": [],
            "_model_module": "@jupyter-widgets/controls",
            "_model_module_version": "1.5.0",
            "_model_name": "HBoxModel",
            "_view_count": null,
            "_view_module": "@jupyter-widgets/controls",
            "_view_module_version": "1.5.0",
            "_view_name": "HBoxView",
            "box_style": "",
            "children": [
              "IPY_MODEL_0305433c57da49b9b71bf60c40c43b8e",
              "IPY_MODEL_3cbe1ec3da894bd78aebb52092606eed",
              "IPY_MODEL_210c007d0f024f62b5dadc4b4a66818e"
            ],
            "layout": "IPY_MODEL_a8757d0d66a74b008dc73090071de58f"
          }
        },
        "0305433c57da49b9b71bf60c40c43b8e": {
          "model_module": "@jupyter-widgets/controls",
          "model_name": "HTMLModel",
          "model_module_version": "1.5.0",
          "state": {
            "_dom_classes": [],
            "_model_module": "@jupyter-widgets/controls",
            "_model_module_version": "1.5.0",
            "_model_name": "HTMLModel",
            "_view_count": null,
            "_view_module": "@jupyter-widgets/controls",
            "_view_module_version": "1.5.0",
            "_view_name": "HTMLView",
            "description": "",
            "description_tooltip": null,
            "layout": "IPY_MODEL_928b1be7747749e4914f4a0a3ff9a5fd",
            "placeholder": "​",
            "style": "IPY_MODEL_6aba00fc77ec4c29a0900e0d01e55a46",
            "value": "Downloading (…)okenizer_config.json: 100%"
          }
        },
        "3cbe1ec3da894bd78aebb52092606eed": {
          "model_module": "@jupyter-widgets/controls",
          "model_name": "FloatProgressModel",
          "model_module_version": "1.5.0",
          "state": {
            "_dom_classes": [],
            "_model_module": "@jupyter-widgets/controls",
            "_model_module_version": "1.5.0",
            "_model_name": "FloatProgressModel",
            "_view_count": null,
            "_view_module": "@jupyter-widgets/controls",
            "_view_module_version": "1.5.0",
            "_view_name": "ProgressView",
            "bar_style": "success",
            "description": "",
            "description_tooltip": null,
            "layout": "IPY_MODEL_7bc6ca657c084b1290ebbd7a5113902e",
            "max": 28,
            "min": 0,
            "orientation": "horizontal",
            "style": "IPY_MODEL_08fa0d8d420a4b938e41e3d9de789907",
            "value": 28
          }
        },
        "210c007d0f024f62b5dadc4b4a66818e": {
          "model_module": "@jupyter-widgets/controls",
          "model_name": "HTMLModel",
          "model_module_version": "1.5.0",
          "state": {
            "_dom_classes": [],
            "_model_module": "@jupyter-widgets/controls",
            "_model_module_version": "1.5.0",
            "_model_name": "HTMLModel",
            "_view_count": null,
            "_view_module": "@jupyter-widgets/controls",
            "_view_module_version": "1.5.0",
            "_view_name": "HTMLView",
            "description": "",
            "description_tooltip": null,
            "layout": "IPY_MODEL_fc35ebf2a57643d2a146bee46f2aad6e",
            "placeholder": "​",
            "style": "IPY_MODEL_df2c5b0d26d34614a50a635d62697c90",
            "value": " 28.0/28.0 [00:00&lt;00:00, 2.12kB/s]"
          }
        },
        "a8757d0d66a74b008dc73090071de58f": {
          "model_module": "@jupyter-widgets/base",
          "model_name": "LayoutModel",
          "model_module_version": "1.2.0",
          "state": {
            "_model_module": "@jupyter-widgets/base",
            "_model_module_version": "1.2.0",
            "_model_name": "LayoutModel",
            "_view_count": null,
            "_view_module": "@jupyter-widgets/base",
            "_view_module_version": "1.2.0",
            "_view_name": "LayoutView",
            "align_content": null,
            "align_items": null,
            "align_self": null,
            "border": null,
            "bottom": null,
            "display": null,
            "flex": null,
            "flex_flow": null,
            "grid_area": null,
            "grid_auto_columns": null,
            "grid_auto_flow": null,
            "grid_auto_rows": null,
            "grid_column": null,
            "grid_gap": null,
            "grid_row": null,
            "grid_template_areas": null,
            "grid_template_columns": null,
            "grid_template_rows": null,
            "height": null,
            "justify_content": null,
            "justify_items": null,
            "left": null,
            "margin": null,
            "max_height": null,
            "max_width": null,
            "min_height": null,
            "min_width": null,
            "object_fit": null,
            "object_position": null,
            "order": null,
            "overflow": null,
            "overflow_x": null,
            "overflow_y": null,
            "padding": null,
            "right": null,
            "top": null,
            "visibility": null,
            "width": null
          }
        },
        "928b1be7747749e4914f4a0a3ff9a5fd": {
          "model_module": "@jupyter-widgets/base",
          "model_name": "LayoutModel",
          "model_module_version": "1.2.0",
          "state": {
            "_model_module": "@jupyter-widgets/base",
            "_model_module_version": "1.2.0",
            "_model_name": "LayoutModel",
            "_view_count": null,
            "_view_module": "@jupyter-widgets/base",
            "_view_module_version": "1.2.0",
            "_view_name": "LayoutView",
            "align_content": null,
            "align_items": null,
            "align_self": null,
            "border": null,
            "bottom": null,
            "display": null,
            "flex": null,
            "flex_flow": null,
            "grid_area": null,
            "grid_auto_columns": null,
            "grid_auto_flow": null,
            "grid_auto_rows": null,
            "grid_column": null,
            "grid_gap": null,
            "grid_row": null,
            "grid_template_areas": null,
            "grid_template_columns": null,
            "grid_template_rows": null,
            "height": null,
            "justify_content": null,
            "justify_items": null,
            "left": null,
            "margin": null,
            "max_height": null,
            "max_width": null,
            "min_height": null,
            "min_width": null,
            "object_fit": null,
            "object_position": null,
            "order": null,
            "overflow": null,
            "overflow_x": null,
            "overflow_y": null,
            "padding": null,
            "right": null,
            "top": null,
            "visibility": null,
            "width": null
          }
        },
        "6aba00fc77ec4c29a0900e0d01e55a46": {
          "model_module": "@jupyter-widgets/controls",
          "model_name": "DescriptionStyleModel",
          "model_module_version": "1.5.0",
          "state": {
            "_model_module": "@jupyter-widgets/controls",
            "_model_module_version": "1.5.0",
            "_model_name": "DescriptionStyleModel",
            "_view_count": null,
            "_view_module": "@jupyter-widgets/base",
            "_view_module_version": "1.2.0",
            "_view_name": "StyleView",
            "description_width": ""
          }
        },
        "7bc6ca657c084b1290ebbd7a5113902e": {
          "model_module": "@jupyter-widgets/base",
          "model_name": "LayoutModel",
          "model_module_version": "1.2.0",
          "state": {
            "_model_module": "@jupyter-widgets/base",
            "_model_module_version": "1.2.0",
            "_model_name": "LayoutModel",
            "_view_count": null,
            "_view_module": "@jupyter-widgets/base",
            "_view_module_version": "1.2.0",
            "_view_name": "LayoutView",
            "align_content": null,
            "align_items": null,
            "align_self": null,
            "border": null,
            "bottom": null,
            "display": null,
            "flex": null,
            "flex_flow": null,
            "grid_area": null,
            "grid_auto_columns": null,
            "grid_auto_flow": null,
            "grid_auto_rows": null,
            "grid_column": null,
            "grid_gap": null,
            "grid_row": null,
            "grid_template_areas": null,
            "grid_template_columns": null,
            "grid_template_rows": null,
            "height": null,
            "justify_content": null,
            "justify_items": null,
            "left": null,
            "margin": null,
            "max_height": null,
            "max_width": null,
            "min_height": null,
            "min_width": null,
            "object_fit": null,
            "object_position": null,
            "order": null,
            "overflow": null,
            "overflow_x": null,
            "overflow_y": null,
            "padding": null,
            "right": null,
            "top": null,
            "visibility": null,
            "width": null
          }
        },
        "08fa0d8d420a4b938e41e3d9de789907": {
          "model_module": "@jupyter-widgets/controls",
          "model_name": "ProgressStyleModel",
          "model_module_version": "1.5.0",
          "state": {
            "_model_module": "@jupyter-widgets/controls",
            "_model_module_version": "1.5.0",
            "_model_name": "ProgressStyleModel",
            "_view_count": null,
            "_view_module": "@jupyter-widgets/base",
            "_view_module_version": "1.2.0",
            "_view_name": "StyleView",
            "bar_color": null,
            "description_width": ""
          }
        },
        "fc35ebf2a57643d2a146bee46f2aad6e": {
          "model_module": "@jupyter-widgets/base",
          "model_name": "LayoutModel",
          "model_module_version": "1.2.0",
          "state": {
            "_model_module": "@jupyter-widgets/base",
            "_model_module_version": "1.2.0",
            "_model_name": "LayoutModel",
            "_view_count": null,
            "_view_module": "@jupyter-widgets/base",
            "_view_module_version": "1.2.0",
            "_view_name": "LayoutView",
            "align_content": null,
            "align_items": null,
            "align_self": null,
            "border": null,
            "bottom": null,
            "display": null,
            "flex": null,
            "flex_flow": null,
            "grid_area": null,
            "grid_auto_columns": null,
            "grid_auto_flow": null,
            "grid_auto_rows": null,
            "grid_column": null,
            "grid_gap": null,
            "grid_row": null,
            "grid_template_areas": null,
            "grid_template_columns": null,
            "grid_template_rows": null,
            "height": null,
            "justify_content": null,
            "justify_items": null,
            "left": null,
            "margin": null,
            "max_height": null,
            "max_width": null,
            "min_height": null,
            "min_width": null,
            "object_fit": null,
            "object_position": null,
            "order": null,
            "overflow": null,
            "overflow_x": null,
            "overflow_y": null,
            "padding": null,
            "right": null,
            "top": null,
            "visibility": null,
            "width": null
          }
        },
        "df2c5b0d26d34614a50a635d62697c90": {
          "model_module": "@jupyter-widgets/controls",
          "model_name": "DescriptionStyleModel",
          "model_module_version": "1.5.0",
          "state": {
            "_model_module": "@jupyter-widgets/controls",
            "_model_module_version": "1.5.0",
            "_model_name": "DescriptionStyleModel",
            "_view_count": null,
            "_view_module": "@jupyter-widgets/base",
            "_view_module_version": "1.2.0",
            "_view_name": "StyleView",
            "description_width": ""
          }
        },
        "3d861450b10047e38fbb6a35b059f75e": {
          "model_module": "@jupyter-widgets/controls",
          "model_name": "HBoxModel",
          "model_module_version": "1.5.0",
          "state": {
            "_dom_classes": [],
            "_model_module": "@jupyter-widgets/controls",
            "_model_module_version": "1.5.0",
            "_model_name": "HBoxModel",
            "_view_count": null,
            "_view_module": "@jupyter-widgets/controls",
            "_view_module_version": "1.5.0",
            "_view_name": "HBoxView",
            "box_style": "",
            "children": [
              "IPY_MODEL_1a16dd4163de4fd89b91afb43378cd45",
              "IPY_MODEL_276b773de0584911b22b6a24ad751141",
              "IPY_MODEL_ee851305301e4f85b342f1305f83a849"
            ],
            "layout": "IPY_MODEL_136bf6ad00144a05a8afc881c2b96069"
          }
        },
        "1a16dd4163de4fd89b91afb43378cd45": {
          "model_module": "@jupyter-widgets/controls",
          "model_name": "HTMLModel",
          "model_module_version": "1.5.0",
          "state": {
            "_dom_classes": [],
            "_model_module": "@jupyter-widgets/controls",
            "_model_module_version": "1.5.0",
            "_model_name": "HTMLModel",
            "_view_count": null,
            "_view_module": "@jupyter-widgets/controls",
            "_view_module_version": "1.5.0",
            "_view_name": "HTMLView",
            "description": "",
            "description_tooltip": null,
            "layout": "IPY_MODEL_62ca17468dfe4a03864e7629143f3ca2",
            "placeholder": "​",
            "style": "IPY_MODEL_f63eec0e744545f4b9a7dab6d362645a",
            "value": "Downloading (…)lve/main/config.json: 100%"
          }
        },
        "276b773de0584911b22b6a24ad751141": {
          "model_module": "@jupyter-widgets/controls",
          "model_name": "FloatProgressModel",
          "model_module_version": "1.5.0",
          "state": {
            "_dom_classes": [],
            "_model_module": "@jupyter-widgets/controls",
            "_model_module_version": "1.5.0",
            "_model_name": "FloatProgressModel",
            "_view_count": null,
            "_view_module": "@jupyter-widgets/controls",
            "_view_module_version": "1.5.0",
            "_view_name": "ProgressView",
            "bar_style": "success",
            "description": "",
            "description_tooltip": null,
            "layout": "IPY_MODEL_1bb84ab1a1284fc1981226c10acac17f",
            "max": 570,
            "min": 0,
            "orientation": "horizontal",
            "style": "IPY_MODEL_9df50c726e4d4801bc65afa84cd74903",
            "value": 570
          }
        },
        "ee851305301e4f85b342f1305f83a849": {
          "model_module": "@jupyter-widgets/controls",
          "model_name": "HTMLModel",
          "model_module_version": "1.5.0",
          "state": {
            "_dom_classes": [],
            "_model_module": "@jupyter-widgets/controls",
            "_model_module_version": "1.5.0",
            "_model_name": "HTMLModel",
            "_view_count": null,
            "_view_module": "@jupyter-widgets/controls",
            "_view_module_version": "1.5.0",
            "_view_name": "HTMLView",
            "description": "",
            "description_tooltip": null,
            "layout": "IPY_MODEL_0d7d32a87dbc456a9e1f1743ae2e2f60",
            "placeholder": "​",
            "style": "IPY_MODEL_ce64928c73c9483cb2375829c920e7ef",
            "value": " 570/570 [00:00&lt;00:00, 41.4kB/s]"
          }
        },
        "136bf6ad00144a05a8afc881c2b96069": {
          "model_module": "@jupyter-widgets/base",
          "model_name": "LayoutModel",
          "model_module_version": "1.2.0",
          "state": {
            "_model_module": "@jupyter-widgets/base",
            "_model_module_version": "1.2.0",
            "_model_name": "LayoutModel",
            "_view_count": null,
            "_view_module": "@jupyter-widgets/base",
            "_view_module_version": "1.2.0",
            "_view_name": "LayoutView",
            "align_content": null,
            "align_items": null,
            "align_self": null,
            "border": null,
            "bottom": null,
            "display": null,
            "flex": null,
            "flex_flow": null,
            "grid_area": null,
            "grid_auto_columns": null,
            "grid_auto_flow": null,
            "grid_auto_rows": null,
            "grid_column": null,
            "grid_gap": null,
            "grid_row": null,
            "grid_template_areas": null,
            "grid_template_columns": null,
            "grid_template_rows": null,
            "height": null,
            "justify_content": null,
            "justify_items": null,
            "left": null,
            "margin": null,
            "max_height": null,
            "max_width": null,
            "min_height": null,
            "min_width": null,
            "object_fit": null,
            "object_position": null,
            "order": null,
            "overflow": null,
            "overflow_x": null,
            "overflow_y": null,
            "padding": null,
            "right": null,
            "top": null,
            "visibility": null,
            "width": null
          }
        },
        "62ca17468dfe4a03864e7629143f3ca2": {
          "model_module": "@jupyter-widgets/base",
          "model_name": "LayoutModel",
          "model_module_version": "1.2.0",
          "state": {
            "_model_module": "@jupyter-widgets/base",
            "_model_module_version": "1.2.0",
            "_model_name": "LayoutModel",
            "_view_count": null,
            "_view_module": "@jupyter-widgets/base",
            "_view_module_version": "1.2.0",
            "_view_name": "LayoutView",
            "align_content": null,
            "align_items": null,
            "align_self": null,
            "border": null,
            "bottom": null,
            "display": null,
            "flex": null,
            "flex_flow": null,
            "grid_area": null,
            "grid_auto_columns": null,
            "grid_auto_flow": null,
            "grid_auto_rows": null,
            "grid_column": null,
            "grid_gap": null,
            "grid_row": null,
            "grid_template_areas": null,
            "grid_template_columns": null,
            "grid_template_rows": null,
            "height": null,
            "justify_content": null,
            "justify_items": null,
            "left": null,
            "margin": null,
            "max_height": null,
            "max_width": null,
            "min_height": null,
            "min_width": null,
            "object_fit": null,
            "object_position": null,
            "order": null,
            "overflow": null,
            "overflow_x": null,
            "overflow_y": null,
            "padding": null,
            "right": null,
            "top": null,
            "visibility": null,
            "width": null
          }
        },
        "f63eec0e744545f4b9a7dab6d362645a": {
          "model_module": "@jupyter-widgets/controls",
          "model_name": "DescriptionStyleModel",
          "model_module_version": "1.5.0",
          "state": {
            "_model_module": "@jupyter-widgets/controls",
            "_model_module_version": "1.5.0",
            "_model_name": "DescriptionStyleModel",
            "_view_count": null,
            "_view_module": "@jupyter-widgets/base",
            "_view_module_version": "1.2.0",
            "_view_name": "StyleView",
            "description_width": ""
          }
        },
        "1bb84ab1a1284fc1981226c10acac17f": {
          "model_module": "@jupyter-widgets/base",
          "model_name": "LayoutModel",
          "model_module_version": "1.2.0",
          "state": {
            "_model_module": "@jupyter-widgets/base",
            "_model_module_version": "1.2.0",
            "_model_name": "LayoutModel",
            "_view_count": null,
            "_view_module": "@jupyter-widgets/base",
            "_view_module_version": "1.2.0",
            "_view_name": "LayoutView",
            "align_content": null,
            "align_items": null,
            "align_self": null,
            "border": null,
            "bottom": null,
            "display": null,
            "flex": null,
            "flex_flow": null,
            "grid_area": null,
            "grid_auto_columns": null,
            "grid_auto_flow": null,
            "grid_auto_rows": null,
            "grid_column": null,
            "grid_gap": null,
            "grid_row": null,
            "grid_template_areas": null,
            "grid_template_columns": null,
            "grid_template_rows": null,
            "height": null,
            "justify_content": null,
            "justify_items": null,
            "left": null,
            "margin": null,
            "max_height": null,
            "max_width": null,
            "min_height": null,
            "min_width": null,
            "object_fit": null,
            "object_position": null,
            "order": null,
            "overflow": null,
            "overflow_x": null,
            "overflow_y": null,
            "padding": null,
            "right": null,
            "top": null,
            "visibility": null,
            "width": null
          }
        },
        "9df50c726e4d4801bc65afa84cd74903": {
          "model_module": "@jupyter-widgets/controls",
          "model_name": "ProgressStyleModel",
          "model_module_version": "1.5.0",
          "state": {
            "_model_module": "@jupyter-widgets/controls",
            "_model_module_version": "1.5.0",
            "_model_name": "ProgressStyleModel",
            "_view_count": null,
            "_view_module": "@jupyter-widgets/base",
            "_view_module_version": "1.2.0",
            "_view_name": "StyleView",
            "bar_color": null,
            "description_width": ""
          }
        },
        "0d7d32a87dbc456a9e1f1743ae2e2f60": {
          "model_module": "@jupyter-widgets/base",
          "model_name": "LayoutModel",
          "model_module_version": "1.2.0",
          "state": {
            "_model_module": "@jupyter-widgets/base",
            "_model_module_version": "1.2.0",
            "_model_name": "LayoutModel",
            "_view_count": null,
            "_view_module": "@jupyter-widgets/base",
            "_view_module_version": "1.2.0",
            "_view_name": "LayoutView",
            "align_content": null,
            "align_items": null,
            "align_self": null,
            "border": null,
            "bottom": null,
            "display": null,
            "flex": null,
            "flex_flow": null,
            "grid_area": null,
            "grid_auto_columns": null,
            "grid_auto_flow": null,
            "grid_auto_rows": null,
            "grid_column": null,
            "grid_gap": null,
            "grid_row": null,
            "grid_template_areas": null,
            "grid_template_columns": null,
            "grid_template_rows": null,
            "height": null,
            "justify_content": null,
            "justify_items": null,
            "left": null,
            "margin": null,
            "max_height": null,
            "max_width": null,
            "min_height": null,
            "min_width": null,
            "object_fit": null,
            "object_position": null,
            "order": null,
            "overflow": null,
            "overflow_x": null,
            "overflow_y": null,
            "padding": null,
            "right": null,
            "top": null,
            "visibility": null,
            "width": null
          }
        },
        "ce64928c73c9483cb2375829c920e7ef": {
          "model_module": "@jupyter-widgets/controls",
          "model_name": "DescriptionStyleModel",
          "model_module_version": "1.5.0",
          "state": {
            "_model_module": "@jupyter-widgets/controls",
            "_model_module_version": "1.5.0",
            "_model_name": "DescriptionStyleModel",
            "_view_count": null,
            "_view_module": "@jupyter-widgets/base",
            "_view_module_version": "1.2.0",
            "_view_name": "StyleView",
            "description_width": ""
          }
        },
        "83e4d7de4b78452698396f18e4e7ccc1": {
          "model_module": "@jupyter-widgets/controls",
          "model_name": "HBoxModel",
          "model_module_version": "1.5.0",
          "state": {
            "_dom_classes": [],
            "_model_module": "@jupyter-widgets/controls",
            "_model_module_version": "1.5.0",
            "_model_name": "HBoxModel",
            "_view_count": null,
            "_view_module": "@jupyter-widgets/controls",
            "_view_module_version": "1.5.0",
            "_view_name": "HBoxView",
            "box_style": "",
            "children": [
              "IPY_MODEL_1798cdbdef424f28b97118a0c49a1cca",
              "IPY_MODEL_57f0201e5c6646c89ae6b21d673f1a2a",
              "IPY_MODEL_f582d154cc0d4e48b56e9db2a689efb6"
            ],
            "layout": "IPY_MODEL_e7112ff621b8468080fa0bbc9802bc68"
          }
        },
        "1798cdbdef424f28b97118a0c49a1cca": {
          "model_module": "@jupyter-widgets/controls",
          "model_name": "HTMLModel",
          "model_module_version": "1.5.0",
          "state": {
            "_dom_classes": [],
            "_model_module": "@jupyter-widgets/controls",
            "_model_module_version": "1.5.0",
            "_model_name": "HTMLModel",
            "_view_count": null,
            "_view_module": "@jupyter-widgets/controls",
            "_view_module_version": "1.5.0",
            "_view_name": "HTMLView",
            "description": "",
            "description_tooltip": null,
            "layout": "IPY_MODEL_8c79849fff9e486da4b0edcda26b2009",
            "placeholder": "​",
            "style": "IPY_MODEL_0ddee6c764ec41a98f115ecb31337790",
            "value": "Downloading model.safetensors: 100%"
          }
        },
        "57f0201e5c6646c89ae6b21d673f1a2a": {
          "model_module": "@jupyter-widgets/controls",
          "model_name": "FloatProgressModel",
          "model_module_version": "1.5.0",
          "state": {
            "_dom_classes": [],
            "_model_module": "@jupyter-widgets/controls",
            "_model_module_version": "1.5.0",
            "_model_name": "FloatProgressModel",
            "_view_count": null,
            "_view_module": "@jupyter-widgets/controls",
            "_view_module_version": "1.5.0",
            "_view_name": "ProgressView",
            "bar_style": "success",
            "description": "",
            "description_tooltip": null,
            "layout": "IPY_MODEL_79fab6b50f654907a8a34d947b276d1c",
            "max": 440449768,
            "min": 0,
            "orientation": "horizontal",
            "style": "IPY_MODEL_7ec637f80e2a466da8b26611fec4e6ef",
            "value": 440449768
          }
        },
        "f582d154cc0d4e48b56e9db2a689efb6": {
          "model_module": "@jupyter-widgets/controls",
          "model_name": "HTMLModel",
          "model_module_version": "1.5.0",
          "state": {
            "_dom_classes": [],
            "_model_module": "@jupyter-widgets/controls",
            "_model_module_version": "1.5.0",
            "_model_name": "HTMLModel",
            "_view_count": null,
            "_view_module": "@jupyter-widgets/controls",
            "_view_module_version": "1.5.0",
            "_view_name": "HTMLView",
            "description": "",
            "description_tooltip": null,
            "layout": "IPY_MODEL_18081f6759d44c46916c669aaa41e904",
            "placeholder": "​",
            "style": "IPY_MODEL_df99f6a437a4414da22dd8ccebd0d195",
            "value": " 440M/440M [00:01&lt;00:00, 265MB/s]"
          }
        },
        "e7112ff621b8468080fa0bbc9802bc68": {
          "model_module": "@jupyter-widgets/base",
          "model_name": "LayoutModel",
          "model_module_version": "1.2.0",
          "state": {
            "_model_module": "@jupyter-widgets/base",
            "_model_module_version": "1.2.0",
            "_model_name": "LayoutModel",
            "_view_count": null,
            "_view_module": "@jupyter-widgets/base",
            "_view_module_version": "1.2.0",
            "_view_name": "LayoutView",
            "align_content": null,
            "align_items": null,
            "align_self": null,
            "border": null,
            "bottom": null,
            "display": null,
            "flex": null,
            "flex_flow": null,
            "grid_area": null,
            "grid_auto_columns": null,
            "grid_auto_flow": null,
            "grid_auto_rows": null,
            "grid_column": null,
            "grid_gap": null,
            "grid_row": null,
            "grid_template_areas": null,
            "grid_template_columns": null,
            "grid_template_rows": null,
            "height": null,
            "justify_content": null,
            "justify_items": null,
            "left": null,
            "margin": null,
            "max_height": null,
            "max_width": null,
            "min_height": null,
            "min_width": null,
            "object_fit": null,
            "object_position": null,
            "order": null,
            "overflow": null,
            "overflow_x": null,
            "overflow_y": null,
            "padding": null,
            "right": null,
            "top": null,
            "visibility": null,
            "width": null
          }
        },
        "8c79849fff9e486da4b0edcda26b2009": {
          "model_module": "@jupyter-widgets/base",
          "model_name": "LayoutModel",
          "model_module_version": "1.2.0",
          "state": {
            "_model_module": "@jupyter-widgets/base",
            "_model_module_version": "1.2.0",
            "_model_name": "LayoutModel",
            "_view_count": null,
            "_view_module": "@jupyter-widgets/base",
            "_view_module_version": "1.2.0",
            "_view_name": "LayoutView",
            "align_content": null,
            "align_items": null,
            "align_self": null,
            "border": null,
            "bottom": null,
            "display": null,
            "flex": null,
            "flex_flow": null,
            "grid_area": null,
            "grid_auto_columns": null,
            "grid_auto_flow": null,
            "grid_auto_rows": null,
            "grid_column": null,
            "grid_gap": null,
            "grid_row": null,
            "grid_template_areas": null,
            "grid_template_columns": null,
            "grid_template_rows": null,
            "height": null,
            "justify_content": null,
            "justify_items": null,
            "left": null,
            "margin": null,
            "max_height": null,
            "max_width": null,
            "min_height": null,
            "min_width": null,
            "object_fit": null,
            "object_position": null,
            "order": null,
            "overflow": null,
            "overflow_x": null,
            "overflow_y": null,
            "padding": null,
            "right": null,
            "top": null,
            "visibility": null,
            "width": null
          }
        },
        "0ddee6c764ec41a98f115ecb31337790": {
          "model_module": "@jupyter-widgets/controls",
          "model_name": "DescriptionStyleModel",
          "model_module_version": "1.5.0",
          "state": {
            "_model_module": "@jupyter-widgets/controls",
            "_model_module_version": "1.5.0",
            "_model_name": "DescriptionStyleModel",
            "_view_count": null,
            "_view_module": "@jupyter-widgets/base",
            "_view_module_version": "1.2.0",
            "_view_name": "StyleView",
            "description_width": ""
          }
        },
        "79fab6b50f654907a8a34d947b276d1c": {
          "model_module": "@jupyter-widgets/base",
          "model_name": "LayoutModel",
          "model_module_version": "1.2.0",
          "state": {
            "_model_module": "@jupyter-widgets/base",
            "_model_module_version": "1.2.0",
            "_model_name": "LayoutModel",
            "_view_count": null,
            "_view_module": "@jupyter-widgets/base",
            "_view_module_version": "1.2.0",
            "_view_name": "LayoutView",
            "align_content": null,
            "align_items": null,
            "align_self": null,
            "border": null,
            "bottom": null,
            "display": null,
            "flex": null,
            "flex_flow": null,
            "grid_area": null,
            "grid_auto_columns": null,
            "grid_auto_flow": null,
            "grid_auto_rows": null,
            "grid_column": null,
            "grid_gap": null,
            "grid_row": null,
            "grid_template_areas": null,
            "grid_template_columns": null,
            "grid_template_rows": null,
            "height": null,
            "justify_content": null,
            "justify_items": null,
            "left": null,
            "margin": null,
            "max_height": null,
            "max_width": null,
            "min_height": null,
            "min_width": null,
            "object_fit": null,
            "object_position": null,
            "order": null,
            "overflow": null,
            "overflow_x": null,
            "overflow_y": null,
            "padding": null,
            "right": null,
            "top": null,
            "visibility": null,
            "width": null
          }
        },
        "7ec637f80e2a466da8b26611fec4e6ef": {
          "model_module": "@jupyter-widgets/controls",
          "model_name": "ProgressStyleModel",
          "model_module_version": "1.5.0",
          "state": {
            "_model_module": "@jupyter-widgets/controls",
            "_model_module_version": "1.5.0",
            "_model_name": "ProgressStyleModel",
            "_view_count": null,
            "_view_module": "@jupyter-widgets/base",
            "_view_module_version": "1.2.0",
            "_view_name": "StyleView",
            "bar_color": null,
            "description_width": ""
          }
        },
        "18081f6759d44c46916c669aaa41e904": {
          "model_module": "@jupyter-widgets/base",
          "model_name": "LayoutModel",
          "model_module_version": "1.2.0",
          "state": {
            "_model_module": "@jupyter-widgets/base",
            "_model_module_version": "1.2.0",
            "_model_name": "LayoutModel",
            "_view_count": null,
            "_view_module": "@jupyter-widgets/base",
            "_view_module_version": "1.2.0",
            "_view_name": "LayoutView",
            "align_content": null,
            "align_items": null,
            "align_self": null,
            "border": null,
            "bottom": null,
            "display": null,
            "flex": null,
            "flex_flow": null,
            "grid_area": null,
            "grid_auto_columns": null,
            "grid_auto_flow": null,
            "grid_auto_rows": null,
            "grid_column": null,
            "grid_gap": null,
            "grid_row": null,
            "grid_template_areas": null,
            "grid_template_columns": null,
            "grid_template_rows": null,
            "height": null,
            "justify_content": null,
            "justify_items": null,
            "left": null,
            "margin": null,
            "max_height": null,
            "max_width": null,
            "min_height": null,
            "min_width": null,
            "object_fit": null,
            "object_position": null,
            "order": null,
            "overflow": null,
            "overflow_x": null,
            "overflow_y": null,
            "padding": null,
            "right": null,
            "top": null,
            "visibility": null,
            "width": null
          }
        },
        "df99f6a437a4414da22dd8ccebd0d195": {
          "model_module": "@jupyter-widgets/controls",
          "model_name": "DescriptionStyleModel",
          "model_module_version": "1.5.0",
          "state": {
            "_model_module": "@jupyter-widgets/controls",
            "_model_module_version": "1.5.0",
            "_model_name": "DescriptionStyleModel",
            "_view_count": null,
            "_view_module": "@jupyter-widgets/base",
            "_view_module_version": "1.2.0",
            "_view_name": "StyleView",
            "description_width": ""
          }
        }
      }
    }
  },
  "cells": [
    {
      "cell_type": "markdown",
      "metadata": {
        "id": "view-in-github",
        "colab_type": "text"
      },
      "source": [
        "<a href=\"https://colab.research.google.com/github/sanjanagarai/Repository1/blob/main/Inter_IIT_ML_NLP.ipynb\" target=\"_parent\"><img src=\"https://colab.research.google.com/assets/colab-badge.svg\" alt=\"Open In Colab\"/></a>"
      ]
    },
    {
      "cell_type": "markdown",
      "source": [
        "# Installing Libraries"
      ],
      "metadata": {
        "id": "rMreekB4njVd"
      }
    },
    {
      "cell_type": "code",
      "execution_count": null,
      "metadata": {
        "id": "Z_tBuPxzX1HI"
      },
      "outputs": [],
      "source": [
        "!pip install transformers\n",
        "!pip install sentence_transformers"
      ]
    },
    {
      "cell_type": "markdown",
      "source": [
        "# Importing NLTK - natural Language Toolkit"
      ],
      "metadata": {
        "id": "S4g_G6OWnseR"
      }
    },
    {
      "cell_type": "code",
      "source": [
        "import nltk\n",
        "nltk.download('wordnet')\n",
        "nltk.download('punkt')\n",
        "\n",
        "from nltk.corpus import wordnet\n",
        "from nltk.tokenize import word_tokenize"
      ],
      "metadata": {
        "id": "P0BAGmcDX-rM"
      },
      "execution_count": null,
      "outputs": []
    },
    {
      "cell_type": "markdown",
      "source": [
        "# Importing other libraries and functions"
      ],
      "metadata": {
        "id": "eCuTvF5_n670"
      }
    },
    {
      "cell_type": "code",
      "source": [
        "import pandas as pd\n",
        "import numpy as np\n",
        "import seaborn as sns\n",
        "import random\n",
        "import matplotlib.pyplot as plt\n",
        "\n",
        "from sentence_transformers import SentenceTransformer\n",
        "from transformers import BertTokenizer, BertForSequenceClassification, AdamW\n",
        "\n",
        "import torch\n",
        "import torch.nn as nn\n",
        "from torch.utils.data import Dataset, DataLoader\n",
        "\n",
        "from sklearn.metrics.pairwise import cosine_similarity\n",
        "from sklearn.model_selection import train_test_split\n",
        "from sklearn.metrics import accuracy_score, classification_report, confusion_matrix\n",
        "from sklearn.metrics import precision_recall_fscore_support"
      ],
      "metadata": {
        "id": "bCNbHvBbYFV9"
      },
      "execution_count": null,
      "outputs": []
    },
    {
      "cell_type": "markdown",
      "source": [
        "### Loading the given dataset"
      ],
      "metadata": {
        "id": "nhx61Zcun-uM"
      }
    },
    {
      "cell_type": "code",
      "source": [
        "df = pd.read_csv('cgptsamples-1.csv')"
      ],
      "metadata": {
        "id": "3Qo6HJCNYIjt"
      },
      "execution_count": null,
      "outputs": []
    },
    {
      "cell_type": "markdown",
      "source": [
        "Defining the model"
      ],
      "metadata": {
        "id": "dIN3FgGNoEMl"
      }
    },
    {
      "cell_type": "code",
      "source": [
        "model_name = \"bert-base-nli-mean-tokens\"\n",
        "model=SentenceTransformer(model_name)"
      ],
      "metadata": {
        "id": "mk4IykmDYOQi"
      },
      "execution_count": null,
      "outputs": []
    },
    {
      "cell_type": "markdown",
      "source": [
        "##Exploratory Data Analysis"
      ],
      "metadata": {
        "id": "08aePn_IrhNZ"
      }
    },
    {
      "cell_type": "markdown",
      "source": [
        "Understandig the data"
      ],
      "metadata": {
        "id": "ZdnHdLlBrjpu"
      }
    },
    {
      "cell_type": "code",
      "source": [
        "df.shape\n",
        "df.nunique()"
      ],
      "metadata": {
        "colab": {
          "base_uri": "https://localhost:8080/"
        },
        "id": "Tvkf1J_Sskkl",
        "outputId": "362ef384-f681-46fe-edf0-2f6a4996e272"
      },
      "execution_count": null,
      "outputs": [
        {
          "output_type": "execute_result",
          "data": {
            "text/plain": [
              "premise       317\n",
              "hypothesis    309\n",
              "label           1\n",
              "dtype: int64"
            ]
          },
          "metadata": {},
          "execution_count": 7
        }
      ]
    },
    {
      "cell_type": "markdown",
      "source": [
        "Clearly, there are duplicate hypothesis. We must now check if the duplicate hypothesis are relevant to their respective premises or not"
      ],
      "metadata": {
        "id": "xgg2owbOs1sc"
      }
    },
    {
      "cell_type": "code",
      "source": [
        "# Find duplicate 'hypothesis' values\n",
        "duplicate_hypotheses = df[df.duplicated(subset='hypothesis', keep=False)]\n",
        "\n",
        "# Print the rows with duplicate hypotheses\n",
        "print(duplicate_hypotheses)"
      ],
      "metadata": {
        "colab": {
          "base_uri": "https://localhost:8080/"
        },
        "id": "PeqsloqLtPl4",
        "outputId": "29485eca-987f-4ab4-e02d-f1257faffdd4"
      },
      "execution_count": null,
      "outputs": [
        {
          "output_type": "stream",
          "name": "stdout",
          "text": [
            "                                               premise  \\\n",
            "70   A sculptor is shaping a block of marble into a...   \n",
            "71   A parent is helping their child fly a kite in ...   \n",
            "72   A soccer player is dribbling the ball down the...   \n",
            "76   A dancer is performing a graceful ballet routine.   \n",
            "77   A barber is giving a customer a haircut at the...   \n",
            "80   A group of friends is laughing and chatting ar...   \n",
            "89   A sculptor is chiseling a piece of marble into...   \n",
            "90   A parent is helping their child build a sandca...   \n",
            "91   A soccer player is taking a penalty kick durin...   \n",
            "95    A dancer is performing a lively hip-hop routine.   \n",
            "96   A barber is giving a customer a stylish haircu...   \n",
            "99   A group of friends is sharing stories around a...   \n",
            "208  A group of psychologists is conducting studies...   \n",
            "280  A team of artists is creating a public mural t...   \n",
            "306  A team of psychologists is researching the eff...   \n",
            "316  A group of artists is creating a series of pub...   \n",
            "\n",
            "                               hypothesis  label  \n",
            "70       Artistic sculpting is occurring.      1  \n",
            "71     Parent-child bonding is happening.      1  \n",
            "72          Soccer gameplay is occurring.      1  \n",
            "76        Dance performance is happening.      1  \n",
            "77       Haircutting service is provided.      1  \n",
            "80           Socializing around the fire.      1  \n",
            "89       Artistic sculpting is occurring.      1  \n",
            "90     Parent-child bonding is happening.      1  \n",
            "91          Soccer gameplay is occurring.      1  \n",
            "95        Dance performance is happening.      1  \n",
            "96       Haircutting service is provided.      1  \n",
            "99           Socializing around the fire.      1  \n",
            "208  Nature-based mental health research.      1  \n",
            "280     Cultural diversity mural project.      1  \n",
            "306  Nature-based mental health research.      1  \n",
            "316     Cultural diversity mural project.      1  \n"
          ]
        }
      ]
    },
    {
      "cell_type": "code",
      "source": [
        "#defining a function which returns the premises given a hypothesis\n",
        "def find_premises_by_hypothesis(dataframe, target_hypothesis):\n",
        "    premises = dataframe[dataframe['hypothesis'] == target_hypothesis]['premise'].tolist()\n",
        "    return premises\n"
      ],
      "metadata": {
        "id": "4BTjQokos1Pf"
      },
      "execution_count": null,
      "outputs": []
    },
    {
      "cell_type": "markdown",
      "source": [
        "Checking all the duplicate hypothesis to make sure there are no outliers\n"
      ],
      "metadata": {
        "id": "B59E0jl2tZoB"
      }
    },
    {
      "cell_type": "code",
      "source": [
        "#duplicate hypothesis1\n",
        "target_hypothesis = 'Artistic sculpting is occurring.'\n",
        "find_premises_by_hypothesis(df, target_hypothesis)\n"
      ],
      "metadata": {
        "colab": {
          "base_uri": "https://localhost:8080/"
        },
        "id": "ulkqWZXHtUpL",
        "outputId": "3735e28b-d2df-4ce9-f880-1426359335b0"
      },
      "execution_count": null,
      "outputs": [
        {
          "output_type": "execute_result",
          "data": {
            "text/plain": [
              "['A sculptor is shaping a block of marble into a statue.',\n",
              " 'A sculptor is chiseling a piece of marble into a statue.']"
            ]
          },
          "metadata": {},
          "execution_count": 11
        }
      ]
    },
    {
      "cell_type": "markdown",
      "source": [
        "Clearly, in this case, both the premises are relevant to the hypothesis"
      ],
      "metadata": {
        "id": "k6xtPhnVuB12"
      }
    },
    {
      "cell_type": "code",
      "source": [
        "#duplicate hypothesis2\n",
        "target_hypothesis = 'Parent-child bonding is happening.'\n",
        "find_premises_by_hypothesis(df, target_hypothesis)"
      ],
      "metadata": {
        "colab": {
          "base_uri": "https://localhost:8080/"
        },
        "id": "I8VSL7F3tiNk",
        "outputId": "65048420-85f9-463b-bdee-7818df14ba2c"
      },
      "execution_count": null,
      "outputs": [
        {
          "output_type": "execute_result",
          "data": {
            "text/plain": [
              "['A parent is helping their child fly a kite in the park.',\n",
              " 'A parent is helping their child build a sandcastle on the beach.']"
            ]
          },
          "metadata": {},
          "execution_count": 12
        }
      ]
    },
    {
      "cell_type": "code",
      "source": [
        "#duplicate hypothesis3\n",
        "target_hypothesis = 'Soccer gameplay is occurring.'\n",
        "find_premises_by_hypothesis(df, target_hypothesis)"
      ],
      "metadata": {
        "colab": {
          "base_uri": "https://localhost:8080/"
        },
        "id": "FG9aUoJ6tlRJ",
        "outputId": "4f0999b5-d175-4c14-9aa6-a2c1cbb27e0c"
      },
      "execution_count": null,
      "outputs": [
        {
          "output_type": "execute_result",
          "data": {
            "text/plain": [
              "['A soccer player is dribbling the ball down the field.',\n",
              " 'A soccer player is taking a penalty kick during a match.']"
            ]
          },
          "metadata": {},
          "execution_count": 13
        }
      ]
    },
    {
      "cell_type": "markdown",
      "source": [
        "Clearly, in this case, both the premises are relevant to the hypothesis"
      ],
      "metadata": {
        "id": "SP5frU3ZuISo"
      }
    },
    {
      "cell_type": "code",
      "source": [
        "#duplicate hypothesis4\n",
        "target_hypothesis = 'Dance performance is happening.'\n",
        "find_premises_by_hypothesis(df, target_hypothesis)"
      ],
      "metadata": {
        "colab": {
          "base_uri": "https://localhost:8080/"
        },
        "id": "1TReV2N5toe3",
        "outputId": "8dd4d9a2-9a09-49e6-a4bd-fdf0a571f696"
      },
      "execution_count": null,
      "outputs": [
        {
          "output_type": "execute_result",
          "data": {
            "text/plain": [
              "['A dancer is performing a graceful ballet routine.',\n",
              " 'A dancer is performing a lively hip-hop routine.']"
            ]
          },
          "metadata": {},
          "execution_count": 14
        }
      ]
    },
    {
      "cell_type": "markdown",
      "source": [
        "Clearly, in this case, both the premises are relevant to the hypothesis"
      ],
      "metadata": {
        "id": "rZCgmjPSuKB1"
      }
    },
    {
      "cell_type": "code",
      "source": [
        "#duplicate hypothesis5\n",
        "target_hypothesis = 'Haircutting service is provided.'\n",
        "find_premises_by_hypothesis(df, target_hypothesis)"
      ],
      "metadata": {
        "colab": {
          "base_uri": "https://localhost:8080/"
        },
        "id": "xbcatRDrtrZ7",
        "outputId": "997805a5-42d2-4be9-dafc-2fdc53af03f5"
      },
      "execution_count": null,
      "outputs": [
        {
          "output_type": "execute_result",
          "data": {
            "text/plain": [
              "['A barber is giving a customer a haircut at the salon.',\n",
              " 'A barber is giving a customer a stylish haircut at the salon.']"
            ]
          },
          "metadata": {},
          "execution_count": 15
        }
      ]
    },
    {
      "cell_type": "markdown",
      "source": [
        "Clearly, in this case, both the premises are relevant to the hypothesis\n"
      ],
      "metadata": {
        "id": "Sb16bNpUuLYU"
      }
    },
    {
      "cell_type": "code",
      "source": [
        "#duplicate hypothesis6\n",
        "target_hypothesis = 'Socializing around the fire.'\n",
        "find_premises_by_hypothesis(df, target_hypothesis)"
      ],
      "metadata": {
        "colab": {
          "base_uri": "https://localhost:8080/"
        },
        "id": "AZuo1mMstuQo",
        "outputId": "8e240625-e8ec-4f72-f9a7-b15761f30b92"
      },
      "execution_count": null,
      "outputs": [
        {
          "output_type": "execute_result",
          "data": {
            "text/plain": [
              "['A group of friends is laughing and chatting around a campfire.',\n",
              " 'A group of friends is sharing stories around a campfire.']"
            ]
          },
          "metadata": {},
          "execution_count": 16
        }
      ]
    },
    {
      "cell_type": "markdown",
      "source": [
        "Clearly, in this case, both the premises are relevant to the hypothesis"
      ],
      "metadata": {
        "id": "I3-x31GguMwl"
      }
    },
    {
      "cell_type": "code",
      "source": [
        "#duplicate hypothesis7\n",
        "target_hypothesis = 'Nature-based mental health research.'\n",
        "find_premises_by_hypothesis(df, target_hypothesis)"
      ],
      "metadata": {
        "colab": {
          "base_uri": "https://localhost:8080/"
        },
        "id": "D21FlWZktw4B",
        "outputId": "c97b282f-3e8b-453a-96c6-f369c37d3fa3"
      },
      "execution_count": null,
      "outputs": [
        {
          "output_type": "execute_result",
          "data": {
            "text/plain": [
              "['A group of psychologists is conducting studies to explore the effects of nature exposure on mental well-being.',\n",
              " 'A team of psychologists is researching the effects of spending time in natural environments on mental health.']"
            ]
          },
          "metadata": {},
          "execution_count": 17
        }
      ]
    },
    {
      "cell_type": "markdown",
      "source": [
        "Clearly, in this case, both the premises are relevant to the hypothesis"
      ],
      "metadata": {
        "id": "Gq-MFnD8uNvu"
      }
    },
    {
      "cell_type": "code",
      "source": [
        "#duplicate hypothesis8\n",
        "target_hypothesis = 'Cultural diversity mural project.'\n",
        "find_premises_by_hypothesis(df, target_hypothesis)"
      ],
      "metadata": {
        "colab": {
          "base_uri": "https://localhost:8080/"
        },
        "id": "epxo26s1tzyN",
        "outputId": "f0087aa0-c464-4bd3-d2e1-b24f65cbd76b"
      },
      "execution_count": null,
      "outputs": [
        {
          "output_type": "execute_result",
          "data": {
            "text/plain": [
              "['A team of artists is creating a public mural that celebrates the cultural heritage and diversity of a neighborhood.',\n",
              " 'A group of artists is creating a series of public murals that celebrate cultural diversity and social unity.']"
            ]
          },
          "metadata": {},
          "execution_count": 18
        }
      ]
    },
    {
      "cell_type": "markdown",
      "source": [
        "Clearly, in this case, both the premises are relevant to the hypothesis"
      ],
      "metadata": {
        "id": "dftwoKCvuOz_"
      }
    },
    {
      "cell_type": "code",
      "source": [
        "#checking for null values\n",
        "df.isnull().sum()"
      ],
      "metadata": {
        "colab": {
          "base_uri": "https://localhost:8080/"
        },
        "id": "rdGDY_BXt3Ew",
        "outputId": "fa011a0a-2114-442c-81ec-7fb929b8f517"
      },
      "execution_count": null,
      "outputs": [
        {
          "output_type": "execute_result",
          "data": {
            "text/plain": [
              "premise       0\n",
              "hypothesis    0\n",
              "label         0\n",
              "dtype: int64"
            ]
          },
          "metadata": {},
          "execution_count": 19
        }
      ]
    },
    {
      "cell_type": "markdown",
      "source": [
        "## DATA AUGMENTATION\n"
      ],
      "metadata": {
        "id": "QsHX9NRioWVV"
      }
    },
    {
      "cell_type": "markdown",
      "source": [
        "Negative sample generation function"
      ],
      "metadata": {
        "id": "FYXNQ4WKoY6E"
      }
    },
    {
      "cell_type": "markdown",
      "source": [
        "STRATEGY USED: using **cosine similarity**, find 5 hypothesis that are least related to a particular premise (done for each and every premise) and append this pair to the original dataset with label 0 creating a new dataset - augmented_cgptsamples.csv"
      ],
      "metadata": {
        "id": "0T1DvnBlo3lj"
      }
    },
    {
      "cell_type": "code",
      "source": [
        "#defining the function\n",
        "def generate_negative_samples(df, model, sentence_vecs1, sentence_vecs2):\n",
        "    negative_samples = []\n",
        "\n",
        "    for i in range(len(df)):\n",
        "      negative_samples.append((df['premise'][i], df['hypothesis'][i], 1))\n",
        "\n",
        "    for premise_idx, premise in enumerate(df['premise']):\n",
        "        premise_vec = sentence_vecs1[premise_idx].reshape(1, -1)\n",
        "        hypothesis_vecs = sentence_vecs2\n",
        "\n",
        "        # Compute cosine similarities between the premise and all hypotheses\n",
        "        similarities = cosine_similarity(premise_vec, hypothesis_vecs)[0]\n",
        "\n",
        "        # Find the indices of 5 hypotheses with the least similarity\n",
        "        least_similar_indices = np.argpartition(similarities, 5)[:5]\n",
        "\n",
        "        # Append these hypotheses to negative_samples with label 0\n",
        "        for idx in least_similar_indices:\n",
        "            negative_samples.append((premise, df['hypothesis'][idx], 0))\n",
        "\n",
        "    return negative_samples\n"
      ],
      "metadata": {
        "id": "j1_uEQvqYTEq"
      },
      "execution_count": null,
      "outputs": []
    },
    {
      "cell_type": "markdown",
      "source": [
        "Performing negative sample generation on the dataset"
      ],
      "metadata": {
        "id": "Jb3JHK7Moygl"
      }
    },
    {
      "cell_type": "code",
      "source": [
        "sentences1 = df['premise']\n",
        "sentences2 = df['hypothesis']\n",
        "\n",
        "sentences1 = model.encode(sentences1)\n",
        "sentences2 = model.encode(sentences2)\n",
        "\n",
        "# Generate negative samples\n",
        "negative_samples = generate_negative_samples(df, model, sentences1, sentences2)\n",
        "\n",
        "# Create a DataFrame from the negative_samples list\n",
        "df_negative_samples = pd.DataFrame(negative_samples, columns=['premise', 'hypothesis', 'label'])\n",
        "\n",
        "# Specify the output file path\n",
        "output_file_path = 'augmented_cgptsamples.csv'\n",
        "\n",
        "# Save the DataFrame to a CSV file\n",
        "df_negative_samples.to_csv(output_file_path, index=False)\n",
        "\n",
        "print(f\"Negative samples saved to {output_file_path}\")"
      ],
      "metadata": {
        "colab": {
          "base_uri": "https://localhost:8080/"
        },
        "id": "FH915f95YWgS",
        "outputId": "18f58fe1-8a5c-4b67-89d7-6e6c1f782f20"
      },
      "execution_count": null,
      "outputs": [
        {
          "output_type": "stream",
          "name": "stdout",
          "text": [
            "Negative samples saved to augmented_cgptsamples.csv\n"
          ]
        }
      ]
    },
    {
      "cell_type": "markdown",
      "source": [
        "# Split the new augmented datset into training set and testing set (80 % and 20 % respectively)"
      ],
      "metadata": {
        "id": "n716UNgPpVG1"
      }
    },
    {
      "cell_type": "code",
      "source": [
        "# Load your dataset from 'augmented_cgptsamples.csv' (replace with your actual file path)\n",
        "df = pd.read_csv('augmented_cgptsamples.csv')\n",
        "\n",
        "# Split the dataset into train and test sets (80% train, 20% test)\n",
        "train_df, test_df = train_test_split(df, test_size=0.2, random_state=42)\n",
        "\n",
        "# Identify common rows between train and test datasets\n",
        "common_rows = pd.merge(train_df, test_df, on=['premise', 'hypothesis'], how='inner')\n",
        "\n",
        "# Remove common rows from the test dataset\n",
        "test_df = test_df[~test_df.index.isin(common_rows.index)]\n",
        "\n",
        "# Save the train and test sets to CSV files\n",
        "train_df.to_csv('train_dataset.csv', index=False)  # Save train dataset to 'train_dataset.csv'\n",
        "test_df.to_csv('test_dataset.csv', index=False)    # Save updated test dataset to 'test_dataset.csv'\n"
      ],
      "metadata": {
        "id": "9DXuzDB5YZzZ"
      },
      "execution_count": null,
      "outputs": []
    },
    {
      "cell_type": "markdown",
      "source": [
        "## TRAINING THE MODEL"
      ],
      "metadata": {
        "id": "1-5JH6Fvpd8r"
      }
    },
    {
      "cell_type": "markdown",
      "source": [
        "Creating a CustomDataset class"
      ],
      "metadata": {
        "id": "KWPtVBrupjw4"
      }
    },
    {
      "cell_type": "code",
      "source": [
        "df = pd.read_csv('train_dataset.csv')\n",
        "\n",
        "# Define a custom dataset class\n",
        "class CustomDataset(Dataset):\n",
        "    def __init__(self, dataframe, tokenizer, max_length):\n",
        "        self.data = dataframe\n",
        "        self.tokenizer = tokenizer\n",
        "        self.max_length = max_length\n",
        "\n",
        "    def __len__(self):\n",
        "        return len(self.data)\n",
        "\n",
        "    def __getitem__(self, index):\n",
        "        premise = str(self.data.loc[index, 'premise'])\n",
        "        hypothesis = str(self.data.loc[index, 'hypothesis'])\n",
        "\n",
        "        encoding = self.tokenizer.encode_plus(\n",
        "            premise,\n",
        "            hypothesis,\n",
        "            add_special_tokens=True,\n",
        "            max_length=self.max_length,\n",
        "            padding='max_length',\n",
        "            truncation=True,\n",
        "            return_tensors='pt'\n",
        "        )\n",
        "\n",
        "        input_ids = encoding['input_ids'].squeeze()\n",
        "        attention_mask = encoding['attention_mask'].squeeze()\n",
        "\n",
        "        return {\n",
        "            'input_ids': input_ids,\n",
        "            'attention_mask': attention_mask,\n",
        "            'label': torch.tensor(self.data.loc[index, 'label'])\n",
        "        }"
      ],
      "metadata": {
        "id": "o6nk9LSjYcy5"
      },
      "execution_count": null,
      "outputs": []
    },
    {
      "cell_type": "markdown",
      "source": [
        "## Hyperparameter Tuning (Using Grid Search)"
      ],
      "metadata": {
        "id": "6VfdNL3Bpo8C"
      }
    },
    {
      "cell_type": "code",
      "source": [
        "# Set the device\n",
        "device = torch.device('cuda' if torch.cuda.is_available() else 'cpu')\n",
        "\n",
        "# Set hyperparameters for grid search\n",
        "learning_rates = [1e-5, 2e-5, 3e-5]  # Example learning rates to test\n",
        "batch_sizes = [8, 16, 32]  # Example batch sizes to test\n",
        "\n",
        "# Lists to store training and validation metrics for each epoch and combination\n",
        "train_losses_all = []\n",
        "val_losses_all = []\n",
        "train_accuracies_all = []\n",
        "val_accuracies_all = []\n",
        "\n",
        "best_accuracy = 0.0\n",
        "best_learning_rate = 0.0\n",
        "best_batch_size = 0\n",
        "best_idx = None\n",
        "idx = 0\n",
        "\n",
        "# Iterate over learning rates and batch sizes\n",
        "for learning_rate in learning_rates:\n",
        "    for batch_size in batch_sizes:\n",
        "        print(f\"Training with learning rate: {learning_rate}, batch size: {batch_size}\")\n",
        "\n",
        "        # Set the tokenizer and the model\n",
        "        tokenizer = BertTokenizer.from_pretrained('bert-base-uncased')\n",
        "        model = BertForSequenceClassification.from_pretrained('bert-base-uncased', num_labels=2).to(device)\n",
        "\n",
        "        # Create a custom classifier head with dropout\n",
        "        classifier = nn.Sequential(\n",
        "            nn.Linear(model.config.hidden_size, 256),  # Modify the input and output dimensions as needed\n",
        "            nn.BatchNorm1d(256),  # Batch normalization layer\n",
        "            nn.ReLU(),\n",
        "            nn.Dropout(0.5),  # Dropout layer with a dropout rate of 0.5 (adjust as needed)\n",
        "            nn.Linear(256, 2)  # Modify the output dimensions as needed (2 for binary classification)\n",
        "        )\n",
        "\n",
        "        # Replace the classifier head in the BERT model with the custom classifier\n",
        "        model.classifier = classifier\n",
        "\n",
        "        # Send the model to the selected device (CPU or GPU)\n",
        "        model.to(device)\n",
        "\n",
        "        # Set hyperparameters\n",
        "        num_epochs = 5  # You can adjust this as needed\n",
        "        max_length = 128\n",
        "        weight_decay = 0.01\n",
        "\n",
        "        # Create the dataset and dataloader\n",
        "        dataset = CustomDataset(df, tokenizer, max_length)\n",
        "        dataloader = DataLoader(dataset, batch_size=batch_size, shuffle=True)\n",
        "\n",
        "        # Split the data into train, validation, and test sets (70% train, 10% validation, 20% test)\n",
        "        train_size = int(0.7 * len(dataset))\n",
        "        val_size = len(dataset) - train_size\n",
        "\n",
        "        train_dataset, val_dataset = torch.utils.data.random_split(dataset, [train_size, val_size])\n",
        "\n",
        "        train_dataloader = DataLoader(train_dataset, batch_size=batch_size, shuffle=True)\n",
        "        val_dataloader = DataLoader(val_dataset, batch_size=batch_size)\n",
        "\n",
        "        # Set the optimizer and loss function\n",
        "        optimizer = AdamW(model.parameters(), lr=learning_rate, weight_decay=weight_decay)\n",
        "        loss_fn = torch.nn.CrossEntropyLoss()\n",
        "\n",
        "        # Lists to store training and validation metrics for each epoch\n",
        "        train_losses = []\n",
        "        val_losses = []\n",
        "        train_accuracies = []\n",
        "        val_accuracies = []\n",
        "\n",
        "        # Training loop\n",
        "        model.train()\n",
        "        for epoch in range(num_epochs):\n",
        "            total_train_loss = 0\n",
        "            correct_predictions_train = 0\n",
        "            total_train_samples = 0\n",
        "\n",
        "            # Training phase\n",
        "            for batch in train_dataloader:\n",
        "                input_ids = batch['input_ids'].to(device)\n",
        "                attention_mask = batch['attention_mask'].to(device)\n",
        "                labels = batch['label'].to(device)\n",
        "\n",
        "                optimizer.zero_grad()\n",
        "\n",
        "                outputs = model(input_ids, attention_mask=attention_mask, labels=labels)\n",
        "                loss = outputs.loss\n",
        "                total_train_loss += loss.item()\n",
        "\n",
        "                logits = outputs.logits\n",
        "                predicted_labels = torch.argmax(logits, dim=1)\n",
        "                correct_predictions_train += torch.sum(predicted_labels == labels).item()\n",
        "                total_train_samples += labels.size(0)\n",
        "\n",
        "                loss.backward()\n",
        "                optimizer.step()\n",
        "\n",
        "            average_train_loss = total_train_loss / len(train_dataloader)\n",
        "            train_accuracy = correct_predictions_train / total_train_samples\n",
        "\n",
        "            # Validation phase\n",
        "            model.eval()\n",
        "            total_val_loss = 0\n",
        "            correct_predictions_val = 0\n",
        "            total_val_samples = 0\n",
        "\n",
        "            with torch.no_grad():\n",
        "                for batch in val_dataloader:\n",
        "                    input_ids = batch['input_ids'].to(device)\n",
        "                    attention_mask = batch['attention_mask'].to(device)\n",
        "                    labels = batch['label'].to(device)\n",
        "\n",
        "                    outputs = model(input_ids, attention_mask=attention_mask)\n",
        "                    logits = outputs.logits\n",
        "\n",
        "                    predicted_labels = torch.argmax(logits, dim=1)\n",
        "                    correct_predictions_val += torch.sum(predicted_labels == labels).item()\n",
        "                    total_val_samples += labels.size(0)\n",
        "\n",
        "                    val_loss = loss_fn(logits, labels)\n",
        "                    total_val_loss += val_loss.item()\n",
        "\n",
        "            average_val_loss = total_val_loss / len(val_dataloader)\n",
        "            val_accuracy = correct_predictions_val / total_val_samples\n",
        "\n",
        "            print(f\"Epoch {epoch + 1}/{num_epochs}\")\n",
        "            print(f\"Train Loss: {average_train_loss:.4f} | Train Accuracy: {train_accuracy:.4f}\")\n",
        "            print(f\"Validation Loss: {average_val_loss:.4f} | Validation Accuracy: {val_accuracy:.4f}\")\n",
        "            print(\"*****************************************************\")\n",
        "\n",
        "            train_losses.append(average_train_loss)\n",
        "            val_losses.append(average_val_loss)\n",
        "            train_accuracies.append(train_accuracy)\n",
        "            val_accuracies.append(val_accuracy)\n",
        "\n",
        "            # Check if the current validation accuracy is the best so far\n",
        "            if val_accuracy > best_accuracy:\n",
        "                best_accuracy = val_accuracy\n",
        "                best_learning_rate = learning_rate\n",
        "                best_batch_size = batch_size\n",
        "                best_idx = idx\n",
        "\n",
        "                # Save the model with the best validation accuracy\n",
        "                best_model = model.state_dict()\n",
        "\n",
        "                # Save the entire model (including custom classifier head)\n",
        "                best_model_path = f\"best_model_lr_{best_learning_rate}_batch_{best_batch_size}.pt\"\n",
        "                torch.save(model, best_model_path)\n",
        "\n",
        "            # Store the metrics for this combination\n",
        "            train_losses_all.append(train_losses)\n",
        "            val_losses_all.append(val_losses)\n",
        "            train_accuracies_all.append(train_accuracies)\n",
        "            val_accuracies_all.append(val_accuracies)\n",
        "\n",
        "            idx += 1\n",
        "            # Set the model back to training mode\n",
        "            model.train()\n",
        "        print(\"--------------------------------------------------------------------\")\n",
        "\n",
        "# Print the best hyperparameters and accuracy\n",
        "print(f\"Best Learning Rate: {best_learning_rate}\")\n",
        "print(f\"Best Batch Size: {best_batch_size}\")\n",
        "print(f\"Best Validation Accuracy: {best_accuracy:.4f}\")\n",
        "\n",
        "# Plotting the best combination\n",
        "plt.figure(figsize=(12, 6))\n",
        "\n",
        "# Plot training and validation accuracy\n",
        "plt.subplot(1, 2, 1)\n",
        "plt.plot(train_accuracies_all[best_idx], label='Train Accuracy', marker='o')\n",
        "plt.plot(val_accuracies_all[best_idx], label='Validation Accuracy', marker='o')\n",
        "plt.xlabel('Epoch')\n",
        "plt.ylabel('Accuracy')\n",
        "plt.title('Train and Validation Accuracy')\n",
        "plt.legend()\n",
        "\n",
        "# Plot training and validation loss\n",
        "plt.subplot(1, 2, 2)\n",
        "plt.plot(train_losses_all[best_idx], label='Train Loss', marker='o')\n",
        "plt.plot(val_losses_all[best_idx], label='Validation Loss', marker='o')\n",
        "plt.xlabel('Epoch')\n",
        "plt.ylabel('Loss')\n",
        "plt.title('Train and Validation Loss')\n",
        "plt.legend()\n",
        "\n",
        "# Save or display the plots\n",
        "plt.tight_layout()\n",
        "plt.show()"
      ],
      "metadata": {
        "colab": {
          "base_uri": "https://localhost:8080/",
          "height": 1000,
          "referenced_widgets": [
            "0bf466694ab24c979a0d2be19852a39b",
            "2d5926baa8a64d2d9f8481dc5e729e18",
            "7eb73019be9e4dd7b63804027641a3e8",
            "fe74853597da4cc8bf564f92387bccad",
            "7ef40d6b553c4d1fb2443f4c7c4e9ee7",
            "490db189bc0644a3a1c67078ebc1f979",
            "abcc909f005442e0b2ba6f5ab8acf23e",
            "6668c1e729544c29afd9438eac0fbc0b",
            "fb66bd125e544ab1a63b19ca7fa94be1",
            "73f187748bb2420d9209c9c992f90732",
            "6315861d0fb8403da65ef3389361c2f5",
            "54d4d525328a44a3b1f9c9e0a50b6856",
            "0305433c57da49b9b71bf60c40c43b8e",
            "3cbe1ec3da894bd78aebb52092606eed",
            "210c007d0f024f62b5dadc4b4a66818e",
            "a8757d0d66a74b008dc73090071de58f",
            "928b1be7747749e4914f4a0a3ff9a5fd",
            "6aba00fc77ec4c29a0900e0d01e55a46",
            "7bc6ca657c084b1290ebbd7a5113902e",
            "08fa0d8d420a4b938e41e3d9de789907",
            "fc35ebf2a57643d2a146bee46f2aad6e",
            "df2c5b0d26d34614a50a635d62697c90",
            "3d861450b10047e38fbb6a35b059f75e",
            "1a16dd4163de4fd89b91afb43378cd45",
            "276b773de0584911b22b6a24ad751141",
            "ee851305301e4f85b342f1305f83a849",
            "136bf6ad00144a05a8afc881c2b96069",
            "62ca17468dfe4a03864e7629143f3ca2",
            "f63eec0e744545f4b9a7dab6d362645a",
            "1bb84ab1a1284fc1981226c10acac17f",
            "9df50c726e4d4801bc65afa84cd74903",
            "0d7d32a87dbc456a9e1f1743ae2e2f60",
            "ce64928c73c9483cb2375829c920e7ef",
            "83e4d7de4b78452698396f18e4e7ccc1",
            "1798cdbdef424f28b97118a0c49a1cca",
            "57f0201e5c6646c89ae6b21d673f1a2a",
            "f582d154cc0d4e48b56e9db2a689efb6",
            "e7112ff621b8468080fa0bbc9802bc68",
            "8c79849fff9e486da4b0edcda26b2009",
            "0ddee6c764ec41a98f115ecb31337790",
            "79fab6b50f654907a8a34d947b276d1c",
            "7ec637f80e2a466da8b26611fec4e6ef",
            "18081f6759d44c46916c669aaa41e904",
            "df99f6a437a4414da22dd8ccebd0d195"
          ]
        },
        "id": "ML3h6p81Yg4E",
        "outputId": "312604b4-feba-444f-edb4-a3f9b7659880"
      },
      "execution_count": null,
      "outputs": [
        {
          "output_type": "stream",
          "name": "stdout",
          "text": [
            "Training with learning rate: 1e-05, batch size: 8\n"
          ]
        },
        {
          "output_type": "display_data",
          "data": {
            "text/plain": [
              "Downloading (…)solve/main/vocab.txt:   0%|          | 0.00/232k [00:00<?, ?B/s]"
            ],
            "application/vnd.jupyter.widget-view+json": {
              "version_major": 2,
              "version_minor": 0,
              "model_id": "0bf466694ab24c979a0d2be19852a39b"
            }
          },
          "metadata": {}
        },
        {
          "output_type": "display_data",
          "data": {
            "text/plain": [
              "Downloading (…)okenizer_config.json:   0%|          | 0.00/28.0 [00:00<?, ?B/s]"
            ],
            "application/vnd.jupyter.widget-view+json": {
              "version_major": 2,
              "version_minor": 0,
              "model_id": "54d4d525328a44a3b1f9c9e0a50b6856"
            }
          },
          "metadata": {}
        },
        {
          "output_type": "display_data",
          "data": {
            "text/plain": [
              "Downloading (…)lve/main/config.json:   0%|          | 0.00/570 [00:00<?, ?B/s]"
            ],
            "application/vnd.jupyter.widget-view+json": {
              "version_major": 2,
              "version_minor": 0,
              "model_id": "3d861450b10047e38fbb6a35b059f75e"
            }
          },
          "metadata": {}
        },
        {
          "output_type": "display_data",
          "data": {
            "text/plain": [
              "Downloading model.safetensors:   0%|          | 0.00/440M [00:00<?, ?B/s]"
            ],
            "application/vnd.jupyter.widget-view+json": {
              "version_major": 2,
              "version_minor": 0,
              "model_id": "83e4d7de4b78452698396f18e4e7ccc1"
            }
          },
          "metadata": {}
        },
        {
          "output_type": "stream",
          "name": "stderr",
          "text": [
            "Some weights of BertForSequenceClassification were not initialized from the model checkpoint at bert-base-uncased and are newly initialized: ['classifier.weight', 'classifier.bias']\n",
            "You should probably TRAIN this model on a down-stream task to be able to use it for predictions and inference.\n",
            "/usr/local/lib/python3.10/dist-packages/transformers/optimization.py:411: FutureWarning: This implementation of AdamW is deprecated and will be removed in a future version. Use the PyTorch implementation torch.optim.AdamW instead, or set `no_deprecation_warning=True` to disable this warning\n",
            "  warnings.warn(\n"
          ]
        },
        {
          "output_type": "stream",
          "name": "stdout",
          "text": [
            "Epoch 1/5\n",
            "Train Loss: 0.6161 | Train Accuracy: 0.6748\n",
            "Validation Loss: 0.3718 | Validation Accuracy: 0.8818\n",
            "*****************************************************\n",
            "Epoch 2/5\n",
            "Train Loss: 0.4009 | Train Accuracy: 0.8647\n",
            "Validation Loss: 0.2496 | Validation Accuracy: 0.9694\n",
            "*****************************************************\n",
            "Epoch 3/5\n",
            "Train Loss: 0.2813 | Train Accuracy: 0.9173\n",
            "Validation Loss: 0.2776 | Validation Accuracy: 0.9781\n",
            "*****************************************************\n",
            "Epoch 4/5\n",
            "Train Loss: 0.2239 | Train Accuracy: 0.9445\n",
            "Validation Loss: 0.2384 | Validation Accuracy: 0.9759\n",
            "*****************************************************\n",
            "Epoch 5/5\n",
            "Train Loss: 0.2086 | Train Accuracy: 0.9361\n",
            "Validation Loss: 0.1865 | Validation Accuracy: 0.9847\n",
            "*****************************************************\n",
            "--------------------------------------------------------------------\n",
            "Training with learning rate: 1e-05, batch size: 16\n"
          ]
        },
        {
          "output_type": "stream",
          "name": "stderr",
          "text": [
            "Some weights of BertForSequenceClassification were not initialized from the model checkpoint at bert-base-uncased and are newly initialized: ['classifier.weight', 'classifier.bias']\n",
            "You should probably TRAIN this model on a down-stream task to be able to use it for predictions and inference.\n"
          ]
        },
        {
          "output_type": "stream",
          "name": "stdout",
          "text": [
            "Epoch 1/5\n",
            "Train Loss: 0.6991 | Train Accuracy: 0.5677\n",
            "Validation Loss: 0.5336 | Validation Accuracy: 0.8753\n",
            "*****************************************************\n",
            "Epoch 2/5\n",
            "Train Loss: 0.4827 | Train Accuracy: 0.7829\n",
            "Validation Loss: 0.2345 | Validation Accuracy: 0.9869\n",
            "*****************************************************\n",
            "Epoch 3/5\n",
            "Train Loss: 0.2776 | Train Accuracy: 0.9417\n",
            "Validation Loss: 0.1898 | Validation Accuracy: 0.9891\n",
            "*****************************************************\n",
            "Epoch 4/5\n",
            "Train Loss: 0.1878 | Train Accuracy: 0.9727\n",
            "Validation Loss: 0.1424 | Validation Accuracy: 1.0000\n",
            "*****************************************************\n",
            "Epoch 5/5\n",
            "Train Loss: 0.1551 | Train Accuracy: 0.9868\n",
            "Validation Loss: 0.1452 | Validation Accuracy: 0.9978\n",
            "*****************************************************\n",
            "--------------------------------------------------------------------\n",
            "Training with learning rate: 1e-05, batch size: 32\n"
          ]
        },
        {
          "output_type": "stream",
          "name": "stderr",
          "text": [
            "Some weights of BertForSequenceClassification were not initialized from the model checkpoint at bert-base-uncased and are newly initialized: ['classifier.weight', 'classifier.bias']\n",
            "You should probably TRAIN this model on a down-stream task to be able to use it for predictions and inference.\n"
          ]
        },
        {
          "output_type": "stream",
          "name": "stdout",
          "text": [
            "Epoch 1/5\n",
            "Train Loss: 0.9663 | Train Accuracy: 0.3374\n",
            "Validation Loss: 0.6168 | Validation Accuracy: 0.7330\n",
            "*****************************************************\n",
            "Epoch 2/5\n",
            "Train Loss: 0.7010 | Train Accuracy: 0.5536\n",
            "Validation Loss: 0.3917 | Validation Accuracy: 0.9694\n",
            "*****************************************************\n",
            "Epoch 3/5\n",
            "Train Loss: 0.4576 | Train Accuracy: 0.8120\n",
            "Validation Loss: 0.2853 | Validation Accuracy: 0.9869\n",
            "*****************************************************\n",
            "Epoch 4/5\n",
            "Train Loss: 0.3150 | Train Accuracy: 0.9511\n",
            "Validation Loss: 0.2712 | Validation Accuracy: 0.9912\n",
            "*****************************************************\n",
            "Epoch 5/5\n",
            "Train Loss: 0.2439 | Train Accuracy: 0.9737\n",
            "Validation Loss: 0.2143 | Validation Accuracy: 0.9934\n",
            "*****************************************************\n",
            "--------------------------------------------------------------------\n",
            "Training with learning rate: 2e-05, batch size: 8\n"
          ]
        },
        {
          "output_type": "stream",
          "name": "stderr",
          "text": [
            "Some weights of BertForSequenceClassification were not initialized from the model checkpoint at bert-base-uncased and are newly initialized: ['classifier.weight', 'classifier.bias']\n",
            "You should probably TRAIN this model on a down-stream task to be able to use it for predictions and inference.\n"
          ]
        },
        {
          "output_type": "stream",
          "name": "stdout",
          "text": [
            "Epoch 1/5\n",
            "Train Loss: 0.6501 | Train Accuracy: 0.6382\n",
            "Validation Loss: 0.2506 | Validation Accuracy: 0.9759\n",
            "*****************************************************\n",
            "Epoch 2/5\n",
            "Train Loss: 0.3072 | Train Accuracy: 0.8976\n",
            "Validation Loss: 0.1660 | Validation Accuracy: 0.9912\n",
            "*****************************************************\n",
            "Epoch 3/5\n",
            "Train Loss: 0.2512 | Train Accuracy: 0.9276\n",
            "Validation Loss: 0.2224 | Validation Accuracy: 0.9934\n",
            "*****************************************************\n",
            "Epoch 4/5\n",
            "Train Loss: 0.2072 | Train Accuracy: 0.9521\n",
            "Validation Loss: 0.2496 | Validation Accuracy: 0.9431\n",
            "*****************************************************\n",
            "Epoch 5/5\n",
            "Train Loss: 0.1530 | Train Accuracy: 0.9596\n",
            "Validation Loss: 0.1476 | Validation Accuracy: 0.9825\n",
            "*****************************************************\n",
            "--------------------------------------------------------------------\n",
            "Training with learning rate: 2e-05, batch size: 16\n"
          ]
        },
        {
          "output_type": "stream",
          "name": "stderr",
          "text": [
            "Some weights of BertForSequenceClassification were not initialized from the model checkpoint at bert-base-uncased and are newly initialized: ['classifier.weight', 'classifier.bias']\n",
            "You should probably TRAIN this model on a down-stream task to be able to use it for predictions and inference.\n"
          ]
        },
        {
          "output_type": "stream",
          "name": "stdout",
          "text": [
            "Epoch 1/5\n",
            "Train Loss: 0.6518 | Train Accuracy: 0.6250\n",
            "Validation Loss: 0.6802 | Validation Accuracy: 0.5295\n",
            "*****************************************************\n",
            "Epoch 2/5\n",
            "Train Loss: 0.3740 | Train Accuracy: 0.8637\n",
            "Validation Loss: 0.1646 | Validation Accuracy: 0.9825\n",
            "*****************************************************\n",
            "Epoch 3/5\n",
            "Train Loss: 0.1926 | Train Accuracy: 0.9615\n",
            "Validation Loss: 0.1524 | Validation Accuracy: 0.9956\n",
            "*****************************************************\n",
            "Epoch 4/5\n",
            "Train Loss: 0.1375 | Train Accuracy: 0.9765\n",
            "Validation Loss: 0.1510 | Validation Accuracy: 0.9956\n",
            "*****************************************************\n",
            "Epoch 5/5\n",
            "Train Loss: 0.1046 | Train Accuracy: 0.9897\n",
            "Validation Loss: 0.1863 | Validation Accuracy: 0.9934\n",
            "*****************************************************\n",
            "--------------------------------------------------------------------\n",
            "Training with learning rate: 2e-05, batch size: 32\n"
          ]
        },
        {
          "output_type": "stream",
          "name": "stderr",
          "text": [
            "Some weights of BertForSequenceClassification were not initialized from the model checkpoint at bert-base-uncased and are newly initialized: ['classifier.weight', 'classifier.bias']\n",
            "You should probably TRAIN this model on a down-stream task to be able to use it for predictions and inference.\n"
          ]
        },
        {
          "output_type": "stream",
          "name": "stdout",
          "text": [
            "Epoch 1/5\n",
            "Train Loss: 0.4951 | Train Accuracy: 0.7876\n",
            "Validation Loss: 0.3473 | Validation Accuracy: 0.9409\n",
            "*****************************************************\n",
            "Epoch 2/5\n",
            "Train Loss: 0.2805 | Train Accuracy: 0.9352\n",
            "Validation Loss: 0.1416 | Validation Accuracy: 0.9781\n",
            "*****************************************************\n",
            "Epoch 3/5\n",
            "Train Loss: 0.1352 | Train Accuracy: 0.9878\n",
            "Validation Loss: 0.0694 | Validation Accuracy: 0.9978\n",
            "*****************************************************\n",
            "Epoch 4/5\n",
            "Train Loss: 0.0910 | Train Accuracy: 0.9962\n",
            "Validation Loss: 0.0572 | Validation Accuracy: 0.9978\n",
            "*****************************************************\n",
            "Epoch 5/5\n",
            "Train Loss: 0.0631 | Train Accuracy: 0.9991\n",
            "Validation Loss: 0.0543 | Validation Accuracy: 0.9934\n",
            "*****************************************************\n",
            "--------------------------------------------------------------------\n",
            "Training with learning rate: 3e-05, batch size: 8\n"
          ]
        },
        {
          "output_type": "stream",
          "name": "stderr",
          "text": [
            "Some weights of BertForSequenceClassification were not initialized from the model checkpoint at bert-base-uncased and are newly initialized: ['classifier.weight', 'classifier.bias']\n",
            "You should probably TRAIN this model on a down-stream task to be able to use it for predictions and inference.\n"
          ]
        },
        {
          "output_type": "stream",
          "name": "stdout",
          "text": [
            "Epoch 1/5\n",
            "Train Loss: 0.5087 | Train Accuracy: 0.7556\n",
            "Validation Loss: 0.3629 | Validation Accuracy: 0.9825\n",
            "*****************************************************\n",
            "Epoch 2/5\n",
            "Train Loss: 0.2200 | Train Accuracy: 0.9342\n",
            "Validation Loss: 0.1477 | Validation Accuracy: 0.9912\n",
            "*****************************************************\n",
            "Epoch 3/5\n",
            "Train Loss: 0.1902 | Train Accuracy: 0.9577\n",
            "Validation Loss: 0.1312 | Validation Accuracy: 0.9825\n",
            "*****************************************************\n",
            "Epoch 4/5\n",
            "Train Loss: 0.1257 | Train Accuracy: 0.9774\n",
            "Validation Loss: 0.0609 | Validation Accuracy: 0.9978\n",
            "*****************************************************\n",
            "Epoch 5/5\n",
            "Train Loss: 0.1206 | Train Accuracy: 0.9803\n",
            "Validation Loss: 0.1294 | Validation Accuracy: 0.9672\n",
            "*****************************************************\n",
            "--------------------------------------------------------------------\n",
            "Training with learning rate: 3e-05, batch size: 16\n"
          ]
        },
        {
          "output_type": "stream",
          "name": "stderr",
          "text": [
            "Some weights of BertForSequenceClassification were not initialized from the model checkpoint at bert-base-uncased and are newly initialized: ['classifier.weight', 'classifier.bias']\n",
            "You should probably TRAIN this model on a down-stream task to be able to use it for predictions and inference.\n"
          ]
        },
        {
          "output_type": "stream",
          "name": "stdout",
          "text": [
            "Epoch 1/5\n",
            "Train Loss: 0.6702 | Train Accuracy: 0.6053\n",
            "Validation Loss: 0.4402 | Validation Accuracy: 0.8928\n",
            "*****************************************************\n",
            "Epoch 2/5\n",
            "Train Loss: 0.3714 | Train Accuracy: 0.8741\n",
            "Validation Loss: 0.1833 | Validation Accuracy: 0.9956\n",
            "*****************************************************\n",
            "Epoch 3/5\n",
            "Train Loss: 0.1625 | Train Accuracy: 0.9812\n",
            "Validation Loss: 0.1985 | Validation Accuracy: 0.9934\n",
            "*****************************************************\n",
            "Epoch 4/5\n",
            "Train Loss: 0.1309 | Train Accuracy: 0.9840\n",
            "Validation Loss: 0.1387 | Validation Accuracy: 0.9978\n",
            "*****************************************************\n",
            "Epoch 5/5\n",
            "Train Loss: 0.1181 | Train Accuracy: 0.9784\n",
            "Validation Loss: 0.1378 | Validation Accuracy: 0.9978\n",
            "*****************************************************\n",
            "--------------------------------------------------------------------\n",
            "Training with learning rate: 3e-05, batch size: 32\n"
          ]
        },
        {
          "output_type": "stream",
          "name": "stderr",
          "text": [
            "Some weights of BertForSequenceClassification were not initialized from the model checkpoint at bert-base-uncased and are newly initialized: ['classifier.weight', 'classifier.bias']\n",
            "You should probably TRAIN this model on a down-stream task to be able to use it for predictions and inference.\n"
          ]
        },
        {
          "output_type": "stream",
          "name": "stdout",
          "text": [
            "Epoch 1/5\n",
            "Train Loss: 0.5556 | Train Accuracy: 0.7190\n",
            "Validation Loss: 0.3727 | Validation Accuracy: 0.8950\n",
            "*****************************************************\n",
            "Epoch 2/5\n",
            "Train Loss: 0.3225 | Train Accuracy: 0.9135\n",
            "Validation Loss: 0.1637 | Validation Accuracy: 0.9737\n",
            "*****************************************************\n",
            "Epoch 3/5\n",
            "Train Loss: 0.1722 | Train Accuracy: 0.9840\n",
            "Validation Loss: 0.1255 | Validation Accuracy: 0.9891\n",
            "*****************************************************\n",
            "Epoch 4/5\n",
            "Train Loss: 0.1105 | Train Accuracy: 0.9944\n",
            "Validation Loss: 0.1295 | Validation Accuracy: 0.9912\n",
            "*****************************************************\n",
            "Epoch 5/5\n",
            "Train Loss: 0.0961 | Train Accuracy: 0.9934\n",
            "Validation Loss: 0.1414 | Validation Accuracy: 0.9912\n",
            "*****************************************************\n",
            "--------------------------------------------------------------------\n",
            "Best Learning Rate: 1e-05\n",
            "Best Batch Size: 16\n",
            "Best Validation Accuracy: 1.0000\n"
          ]
        },
        {
          "output_type": "display_data",
          "data": {
            "text/plain": [
              "<Figure size 1200x600 with 2 Axes>"
            ],
            "image/png": "[encoded data removed]"
          },
          "metadata": {}
        }
      ]
    },
    {
      "cell_type": "markdown",
      "source": [
        "## EVALUATION"
      ],
      "metadata": {
        "id": "buLRV8QkqW8J"
      }
    },
    {
      "cell_type": "markdown",
      "source": [
        "Evaluating and then printing the important metrics like precision and recall, support, f1 score along with confusion matrix"
      ],
      "metadata": {
        "id": "pXI9BAVGqcF9"
      }
    },
    {
      "cell_type": "code",
      "source": [
        "device = torch.device('cuda' if torch.cuda.is_available() else 'cpu')\n",
        "best_model.to(device)\n",
        "\n",
        "# Load the best model\n",
        "best_model = torch.load(best_model_path)\n",
        "\n",
        "test_df = pd.read_csv('/content/test_dataset.csv')\n",
        "\n",
        "# Set the tokenizer and the model\n",
        "tokenizer = BertTokenizer.from_pretrained('bert-base-uncased')\n",
        "\n",
        "# Prepare the test data\n",
        "test_inputs = tokenizer.batch_encode_plus(\n",
        "    test_df[['premise', 'hypothesis']].values.tolist(),\n",
        "    max_length=max_length,\n",
        "    padding='max_length',\n",
        "    truncation=True,\n",
        "    return_tensors='pt'\n",
        ")\n",
        "\n",
        "test_input_ids = test_inputs['input_ids'].to(device)\n",
        "test_attention_mask = test_inputs['attention_mask'].to(device)\n",
        "test_labels = torch.tensor(test_df['label'].tolist()).to(device)\n",
        "\n",
        "# Evaluate the model on the test dataset\n",
        "best_model.eval()\n",
        "with torch.no_grad():\n",
        "    outputs = best_model(test_input_ids, attention_mask=test_attention_mask)\n",
        "    logits = outputs.logits\n",
        "\n",
        "    predicted_labels = torch.argmax(logits, dim=1)\n",
        "    predicted_labels = predicted_labels.cpu().numpy()\n",
        "    test_labels = test_labels.cpu().numpy()\n",
        "\n",
        "# Calculate TP, TN, FP, FN\n",
        "TP = np.sum((test_labels == 1) & (predicted_labels == 1))\n",
        "TN = np.sum((test_labels == 0) & (predicted_labels == 0))\n",
        "FP = np.sum((test_labels == 0) & (predicted_labels == 1))\n",
        "FN = np.sum((test_labels == 1) & (predicted_labels == 0))\n",
        "\n",
        "# Print the confusion matrix\n",
        "print(\"Confusion Matrix:\")\n",
        "print(\"          Predicted 0   Predicted 1\")\n",
        "print(f\"Actual 0     {TN}            {FP}\")\n",
        "print(f\"Actual 1     {FN}            {TP}\")\n",
        "\n",
        "TP=TP.item()\n",
        "TN=TN.item()\n",
        "FP=FP.item()\n",
        "FN=FN.item()\n",
        "\n",
        "precision = TP/(TP+FP)\n",
        "recall = TP/(TP+FN)\n",
        "accuracy = (TP+TN)/(TP+TN+FP+FN)\n",
        "f1 = (2*precision*accuracy)/(precision+accuracy)\n",
        "\n",
        "print(\"Classification report: \")\n",
        "print('Precision: ', precision)\n",
        "print('Recall: ', recall)\n",
        "print('Test accuracy: ', accuracy)\n",
        "print('f1 score: ', f1)\n"
      ],
      "metadata": {
        "colab": {
          "base_uri": "https://localhost:8080/"
        },
        "id": "cQwGtEA3Y7Eu",
        "outputId": "4bf72f7b-b3fe-4f42-df57-5b07740dc637"
      },
      "execution_count": null,
      "outputs": [
        {
          "output_type": "stream",
          "name": "stdout",
          "text": [
            "Confusion Matrix:\n",
            "          Predicted 0   Predicted 1\n",
            "Actual 0     315            2\n",
            "Actual 1     1            63\n",
            "Classification report: \n",
            "Precision:  0.9692307692307692\n",
            "Recall:  0.984375\n",
            "Test accuracy:  0.9921259842519685\n",
            "f1 score:  0.980544747081712\n"
          ]
        }
      ]
    },
    {
      "cell_type": "markdown",
      "source": [
        "### Defining a function to test the model on user entered premise and hypothesis"
      ],
      "metadata": {
        "id": "buNqBo4Cq0u4"
      }
    },
    {
      "cell_type": "code",
      "source": [
        "device = torch.device('cpu')\n",
        "best_model.to(device)\n",
        "\n",
        "# Input premise and hypothesis (modify as needed)\n",
        "premise = input(\"Enter the premise: \")\n",
        "hypothesis = input(\"Enter the hypothesis: \")\n",
        "\n",
        "# Tokenize and encode the input\n",
        "inputs = tokenizer(premise, hypothesis, return_tensors=\"pt\")\n",
        "\n",
        "# Make the prediction\n",
        "with torch.no_grad():\n",
        "    logits = best_model(**inputs).logits\n",
        "\n",
        "# Determine the predicted class\n",
        "predicted_class = torch.argmax(logits, dim=1).item()\n",
        "\n",
        "# Map the predicted class to human-readable labels\n",
        "class_labels = [\"Not Satisfying\", \"Satisfying\"]\n",
        "predicted_label = class_labels[predicted_class]\n",
        "\n",
        "# Print the prediction\n",
        "print(f\"Prediction: {predicted_label}\")"
      ],
      "metadata": {
        "colab": {
          "base_uri": "https://localhost:8080/"
        },
        "id": "mBcVaLeOjQsI",
        "outputId": "08c67427-7262-4c76-c28d-b8f1c5d0456a"
      },
      "execution_count": null,
      "outputs": [
        {
          "output_type": "stream",
          "name": "stdout",
          "text": [
            "Enter the premise: Sanjana has been studying very hard for her exams\n",
            "Enter the hypothesis: Sanjana will get good scores in her exams\n",
            "Prediction: Satisfying\n"
          ]
        }
      ]
    },
    {
      "cell_type": "code",
      "source": [],
      "metadata": {
        "id": "z8qqOqTYjFF7"
      },
      "execution_count": null,
      "outputs": []
    }
  ]
}